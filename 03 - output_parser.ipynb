{
 "cells": [
  {
   "cell_type": "code",
   "execution_count": 2,
   "id": "2be1fc7e",
   "metadata": {},
   "outputs": [],
   "source": [
    "feedback_produto = \"\"\"\n",
    "Estou muito satisfeito com o Smartphone XYZ Pro. O desempenho é excelente, e o sistema \n",
    "operacional é rápido e intuitivo. A câmera é um dos principais destaques, especialmente o \n",
    "modo noturno, que captura imagens incríveis mesmo em baixa iluminação. A duração da bateria \n",
    "também impressiona, durando facilmente um dia inteiro com uso intenso.\n",
    "Por outro lado, sinto que o produto poderia ser melhorado em alguns aspectos. A tela, \n",
    "embora tenha cores vibrantes, parece refletir bastante luz, dificultando o uso sob o sol. \n",
    "Além disso, o carregador incluído na caixa não oferece carregamento rápido, o que é um ponto \n",
    "negativo considerando o preço do aparelho\n",
    "\"\"\""
   ]
  },
  {
   "cell_type": "code",
   "execution_count": null,
   "id": "3a28521c",
   "metadata": {},
   "outputs": [],
   "source": [
    "from langchain.prompts import ChatPromptTemplate\n",
    "\n",
    "review_template = ChatPromptTemplate.from_template(\"\"\"\n",
    "Para o texto a seguir, extraia as seguintes informações:\n",
    "produto: Nome do produto mencionado no texto.\n",
    "características_positivas: Liste todas as características positivas mencionadas sobre o produto.\n",
    "características_negativas: Liste todas as características negativas mencionadas sobre o produto.\n",
    "recomendação: O cliente recomenda o produto? Responda True para sim ou False para não.\n",
    "\n",
    "Texto: {review}\n",
    "\n",
    "Retorne a resposta no formato JSON\n",
    "\"\"\"\n",
    ")"
   ]
  },
  {
   "cell_type": "code",
   "execution_count": 4,
   "id": "d521a9da",
   "metadata": {},
   "outputs": [
    {
     "name": "stdout",
     "output_type": "stream",
     "text": [
      "[HumanMessage(content='\\nPara o texto a seguir, extraia as seguintes informações:\\nproduto: Nome do produto mencionado no texto.\\ncaracterísticas_positivas: Liste todas as características positivas mencionadas sobre o produto.\\ncaracterísticas_negativas: Liste todas as características negativas mencionadas sobre o produto.\\nrecomendação: O cliente recomenda o produto? Responda True para sim ou False para não.\\n\\nTexto: \\nEstou muito satisfeito com o Smartphone XYZ Pro. O desempenho é excelente, e o sistema \\noperacional é rápido e intuitivo. A câmera é um dos principais destaques, especialmente o \\nmodo noturno, que captura imagens incríveis mesmo em baixa iluminação. A duração da bateria \\ntambém impressiona, durando facilmente um dia inteiro com uso intenso.\\nPor outro lado, sinto que o produto poderia ser melhorado em alguns aspectos. A tela, \\nembora tenha cores vibrantes, parece refletir bastante luz, dificultando o uso sob o sol. \\nAlém disso, o carregador incluído na caixa não oferece carregamento rápido, o que é um ponto \\nnegativo considerando o preço do aparelho\\n\\n\\nRetorne a resposta no formato JSON\\n')]\n"
     ]
    }
   ],
   "source": [
    "print(review_template.format_messages(review=feedback_produto))"
   ]
  },
  {
   "cell_type": "code",
   "execution_count": 5,
   "id": "c7974e5c",
   "metadata": {},
   "outputs": [],
   "source": [
    "from langchain_openai.chat_models import ChatOpenAI\n",
    "\n",
    "chat = ChatOpenAI()\n",
    "resposta = chat.invoke(review_template.format_messages(review=feedback_produto))"
   ]
  },
  {
   "cell_type": "code",
   "execution_count": 6,
   "id": "fb018fdf",
   "metadata": {},
   "outputs": [
    {
     "data": {
      "text/plain": [
       "'{\\n    \"produto\": \"Smartphone XYZ Pro\",\\n    \"características_positivas\": [\"Desempenho excelente\", \"Sistema operacional rápido e intuitivo\", \"Câmera de destaque, especialmente o modo noturno\", \"Duração da bateria impressionante\"],\\n    \"características_negativas\": [\"Tela reflete bastante luz\", \"Carregador não oferece carregamento rápido\"],\\n    \"recomendação\": true\\n}'"
      ]
     },
     "execution_count": 6,
     "metadata": {},
     "output_type": "execute_result"
    }
   ],
   "source": [
    "resposta.content"
   ]
  },
  {
   "cell_type": "code",
   "execution_count": 7,
   "id": "fce0071d",
   "metadata": {},
   "outputs": [],
   "source": [
    "from langchain.output_parsers import ResponseSchema\n",
    "from langchain.output_parsers import StructuredOutputParser"
   ]
  },
  {
   "cell_type": "code",
   "execution_count": 8,
   "id": "6cd1574a",
   "metadata": {},
   "outputs": [],
   "source": [
    "schema_produto = ResponseSchema(\n",
    "    name=\"produto\",\n",
    "    type=\"string\",\n",
    "    description=\"Nome do produto mencionado no texto.\",\n",
    ")\n",
    "\n",
    "schema_positivas = ResponseSchema(\n",
    "    name=\"positivas\",\n",
    "    type=\"list\",\n",
    "    description=\"Liste todas as características positivas mencionadas sobre o produto.\",\n",
    ")\n",
    "\n",
    "schema_negativas = ResponseSchema(\n",
    "    name=\"negativas\",\n",
    "    type=\"list\",\n",
    "    description=\"Liste todas as características negativas mencionadas sobre o produto.\",\n",
    ")\n",
    "\n",
    "schema_recomendacao = ResponseSchema(\n",
    "    name=\"recomendacao\",\n",
    "    type=\"bool\",\n",
    "    description=\"O cliente recomenda o propduto? Responda true para sim ou False para não.\",\n",
    ")"
   ]
  },
  {
   "cell_type": "code",
   "execution_count": 9,
   "id": "c75eb1db",
   "metadata": {},
   "outputs": [],
   "source": [
    "ResponseSchema = [schema_produto, schema_positivas, schema_negativas, schema_recomendacao]\n",
    "output_parser = StructuredOutputParser.from_response_schemas(ResponseSchema)\n",
    "schema_formatado = output_parser.get_format_instructions()"
   ]
  },
  {
   "cell_type": "code",
   "execution_count": 10,
   "id": "bc6fe5e4",
   "metadata": {},
   "outputs": [
    {
     "name": "stdout",
     "output_type": "stream",
     "text": [
      "The output should be a markdown code snippet formatted in the following schema, including the leading and trailing \"```json\" and \"```\":\n",
      "\n",
      "```json\n",
      "{\n",
      "\t\"produto\": string  // Nome do produto mencionado no texto.\n",
      "\t\"positivas\": list  // Liste todas as características positivas mencionadas sobre o produto.\n",
      "\t\"negativas\": list  // Liste todas as características negativas mencionadas sobre o produto.\n",
      "\t\"recomendacao\": bool  // O cliente recomenda o propduto? Responda true para sim ou False para não.\n",
      "}\n",
      "```\n"
     ]
    }
   ],
   "source": [
    "print(schema_formatado)"
   ]
  },
  {
   "cell_type": "code",
   "execution_count": 11,
   "id": "4a1d05bc",
   "metadata": {},
   "outputs": [],
   "source": [
    "review_template2 = ChatPromptTemplate.from_template(\"\"\"\n",
    "Para o texto a seguir, extraia as seguintes informações:\n",
    "produto, caracteristicas_positivas, caracteristicas_negativas e recomendacao\n",
    "\n",
    "Texto: {review}\n",
    "                                                    \n",
    "{schema}\n",
    "\"\"\", partial_variables={\"schema\":schema_formatado}\n",
    ")"
   ]
  },
  {
   "cell_type": "code",
   "execution_count": 12,
   "id": "c686d624",
   "metadata": {},
   "outputs": [
    {
     "name": "stdout",
     "output_type": "stream",
     "text": [
      "[HumanMessage(content='\\nPara o texto a seguir, extraia as seguintes informações:\\nproduto, caracteristicas_positivas, caracteristicas_negativas e recomendacao\\n\\nTexto: \\nEstou muito satisfeito com o Smartphone XYZ Pro. O desempenho é excelente, e o sistema \\noperacional é rápido e intuitivo. A câmera é um dos principais destaques, especialmente o \\nmodo noturno, que captura imagens incríveis mesmo em baixa iluminação. A duração da bateria \\ntambém impressiona, durando facilmente um dia inteiro com uso intenso.\\nPor outro lado, sinto que o produto poderia ser melhorado em alguns aspectos. A tela, \\nembora tenha cores vibrantes, parece refletir bastante luz, dificultando o uso sob o sol. \\nAlém disso, o carregador incluído na caixa não oferece carregamento rápido, o que é um ponto \\nnegativo considerando o preço do aparelho\\n\\n\\nThe output should be a markdown code snippet formatted in the following schema, including the leading and trailing \"```json\" and \"```\":\\n\\n```json\\n{\\n\\t\"produto\": string  // Nome do produto mencionado no texto.\\n\\t\"positivas\": list  // Liste todas as características positivas mencionadas sobre o produto.\\n\\t\"negativas\": list  // Liste todas as características negativas mencionadas sobre o produto.\\n\\t\"recomendacao\": bool  // O cliente recomenda o propduto? Responda true para sim ou False para não.\\n}\\n```\\n')]\n"
     ]
    }
   ],
   "source": [
    "print(review_template2.format_messages(review=feedback_produto))"
   ]
  },
  {
   "cell_type": "code",
   "execution_count": 13,
   "id": "d284988b",
   "metadata": {},
   "outputs": [
    {
     "name": "stdout",
     "output_type": "stream",
     "text": [
      "```json\n",
      "{\n",
      "\t\"produto\": \"Smartphone XYZ Pro\",\n",
      "\t\"positivas\": [\"Desempenho excelente\", \"Sistema operacional rápido e intuitivo\", \"Câmera com modo noturno incrível\", \"Duração da bateria impressionante\"],\n",
      "\t\"negativas\": [\"Tela reflete bastante luz\", \"Carregador não oferece carregamento rápido\"],\n",
      "\t\"recomendacao\": true\n",
      "}\n",
      "```\n"
     ]
    }
   ],
   "source": [
    "resposta = chat.invoke(review_template2.format_messages(review=feedback_produto))\n",
    "print(resposta.content)"
   ]
  },
  {
   "cell_type": "code",
   "execution_count": 14,
   "id": "602d2f32",
   "metadata": {},
   "outputs": [],
   "source": [
    "resposta_json = output_parser.parse(resposta.content)"
   ]
  },
  {
   "cell_type": "code",
   "execution_count": 18,
   "id": "7ce50955",
   "metadata": {},
   "outputs": [
    {
     "data": {
      "text/plain": [
       "'Smartphone XYZ Pro'"
      ]
     },
     "execution_count": 18,
     "metadata": {},
     "output_type": "execute_result"
    }
   ],
   "source": [
    "resposta_json[\"produto\"]\n"
   ]
  },
  {
   "cell_type": "code",
   "execution_count": 19,
   "id": "c03afcb6",
   "metadata": {},
   "outputs": [
    {
     "data": {
      "text/plain": [
       "['Desempenho excelente',\n",
       " 'Sistema operacional rápido e intuitivo',\n",
       " 'Câmera com modo noturno incrível',\n",
       " 'Duração da bateria impressionante']"
      ]
     },
     "execution_count": 19,
     "metadata": {},
     "output_type": "execute_result"
    }
   ],
   "source": [
    "resposta_json[\"positivas\"]"
   ]
  },
  {
   "cell_type": "code",
   "execution_count": 20,
   "id": "f580843e",
   "metadata": {},
   "outputs": [
    {
     "data": {
      "text/plain": [
       "['Tela reflete bastante luz', 'Carregador não oferece carregamento rápido']"
      ]
     },
     "execution_count": 20,
     "metadata": {},
     "output_type": "execute_result"
    }
   ],
   "source": [
    "resposta_json[\"negativas\"]"
   ]
  },
  {
   "cell_type": "code",
   "execution_count": 21,
   "id": "af31ceb3",
   "metadata": {},
   "outputs": [
    {
     "data": {
      "text/plain": [
       "True"
      ]
     },
     "execution_count": 21,
     "metadata": {},
     "output_type": "execute_result"
    }
   ],
   "source": [
    "resposta_json[\"recomendacao\"]"
   ]
  },
  {
   "cell_type": "code",
   "execution_count": null,
   "id": "e1bfc431",
   "metadata": {},
   "outputs": [],
   "source": []
  }
 ],
 "metadata": {
  "kernelspec": {
   "display_name": ".venv",
   "language": "python",
   "name": "python3"
  },
  "language_info": {
   "codemirror_mode": {
    "name": "ipython",
    "version": 3
   },
   "file_extension": ".py",
   "mimetype": "text/x-python",
   "name": "python",
   "nbconvert_exporter": "python",
   "pygments_lexer": "ipython3",
   "version": "3.13.3"
  }
 },
 "nbformat": 4,
 "nbformat_minor": 5
}
