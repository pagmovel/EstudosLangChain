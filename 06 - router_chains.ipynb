{
 "cells": [
  {
   "cell_type": "code",
   "execution_count": 36,
   "id": "c1981b80",
   "metadata": {},
   "outputs": [],
   "source": [
    "from langchain_openai import ChatOpenAI\n",
    "from langchain.prompts import ChatPromptTemplate, PromptTemplate\n",
    "from langchain.chains.llm import LLMChain\n",
    "\n",
    "from langchain.chains.router import MultiPromptChain\n",
    "from langchain.chains.router.llm_router import LLMRouterChain, RouterOutputParser\n",
    "from langchain.chains.router.multi_prompt_prompt import MULTI_PROMPT_ROUTER_TEMPLATE"
   ]
  },
  {
   "cell_type": "code",
   "execution_count": 37,
   "id": "35749fec",
   "metadata": {},
   "outputs": [],
   "source": [
    "quimica_template = ChatPromptTemplate.from_template(\"\"\"Você é um químico muito experiente.\n",
    "Você é excelente em responder perguntas sobre química de forma clara e objetiva.\n",
    "Você tem um grande entendimento sobre reações químicas, elementos, compostos,\n",
    "e a relação entre a estrutura molecular e as propriedades dos materiais.\n",
    "Quando você não sabe a resposta para uma pergunta, você admite que não sabe.\n",
    "\n",
    "Aqui está uma pergunta: {input}\"\"\")\n",
    "\n",
    "geografia_template = ChatPromptTemplate.from_template(\"\"\"Você é um geógrafo muito bem informado.\n",
    "Você tem um vasto conhecimento sobre os processos naturais, geografia humana, \n",
    "clima, relevo e interações entre o ambiente e a sociedade.\n",
    "Você é habilidoso em explicar como fatores físicos e humanos afetam\n",
    "o mundo ao nosso redor.\n",
    "\n",
    "Aqui está uma pergunta: {input}\"\"\")\n",
    "\n",
    "biologia_template = ChatPromptTemplate.from_template(\"\"\"Você é um biólogo muito capacitado.\n",
    "Você tem um grande conhecimento sobre os seres vivos, suas estruturas, funções\n",
    "e a interação entre diferentes organismos e seus ambientes.\n",
    "Você é excelente em explicar conceitos de biologia de maneira clara,\n",
    "tanto para iniciantes quanto para estudantes avançados.\n",
    "\n",
    "Aqui está uma pergunta: {input}\"\"\")\n"
   ]
  },
  {
   "cell_type": "code",
   "execution_count": 38,
   "id": "21d19063",
   "metadata": {},
   "outputs": [],
   "source": [
    "prompt_infos = [\n",
    "    {\n",
    "        \"name\": \"Química\",\n",
    "        \"description\": \"Ideal para responder pergunta de química\",\n",
    "        \"prompt_template\": quimica_template\n",
    "    },\n",
    "     {\n",
    "        \"name\": \"Geografia\",\n",
    "        \"description\": \"Ideal para responder pergunta de geografia\",\n",
    "        \"prompt_template\": geografia_template\n",
    "    },\n",
    "      {\n",
    "        \"name\": \"Biologia\",\n",
    "        \"description\": \"Ideal para responder pergunta de biologia\",\n",
    "        \"prompt_template\": biologia_template\n",
    "    },\n",
    "]"
   ]
  },
  {
   "cell_type": "code",
   "execution_count": 39,
   "id": "9034889b",
   "metadata": {},
   "outputs": [],
   "source": [
    "chat = ChatOpenAI(model=\"gpt-3.5-turbo-0125\")"
   ]
  },
  {
   "cell_type": "code",
   "execution_count": 40,
   "id": "0683f735",
   "metadata": {},
   "outputs": [
    {
     "data": {
      "text/plain": [
       "{'Química': LLMChain(verbose=True, prompt=ChatPromptTemplate(input_variables=['input'], messages=[HumanMessagePromptTemplate(prompt=PromptTemplate(input_variables=['input'], template='Você é um químico muito experiente.\\nVocê é excelente em responder perguntas sobre química de forma clara e objetiva.\\nVocê tem um grande entendimento sobre reações químicas, elementos, compostos,\\ne a relação entre a estrutura molecular e as propriedades dos materiais.\\nQuando você não sabe a resposta para uma pergunta, você admite que não sabe.\\n\\nAqui está uma pergunta: {input}'))]), llm=ChatOpenAI(client=<openai.resources.chat.completions.Completions object at 0x0000021ABF7423F0>, async_client=<openai.resources.chat.completions.AsyncCompletions object at 0x0000021ABF745940>, model_name='gpt-3.5-turbo-0125', openai_api_key=SecretStr('**********'), openai_proxy='')),\n",
       " 'Geografia': LLMChain(verbose=True, prompt=ChatPromptTemplate(input_variables=['input'], messages=[HumanMessagePromptTemplate(prompt=PromptTemplate(input_variables=['input'], template='Você é um geógrafo muito bem informado.\\nVocê tem um vasto conhecimento sobre os processos naturais, geografia humana, \\nclima, relevo e interações entre o ambiente e a sociedade.\\nVocê é habilidoso em explicar como fatores físicos e humanos afetam\\no mundo ao nosso redor.\\n\\nAqui está uma pergunta: {input}'))]), llm=ChatOpenAI(client=<openai.resources.chat.completions.Completions object at 0x0000021ABF7423F0>, async_client=<openai.resources.chat.completions.AsyncCompletions object at 0x0000021ABF745940>, model_name='gpt-3.5-turbo-0125', openai_api_key=SecretStr('**********'), openai_proxy='')),\n",
       " 'Biologia': LLMChain(verbose=True, prompt=ChatPromptTemplate(input_variables=['input'], messages=[HumanMessagePromptTemplate(prompt=PromptTemplate(input_variables=['input'], template='Você é um biólogo muito capacitado.\\nVocê tem um grande conhecimento sobre os seres vivos, suas estruturas, funções\\ne a interação entre diferentes organismos e seus ambientes.\\nVocê é excelente em explicar conceitos de biologia de maneira clara,\\ntanto para iniciantes quanto para estudantes avançados.\\n\\nAqui está uma pergunta: {input}'))]), llm=ChatOpenAI(client=<openai.resources.chat.completions.Completions object at 0x0000021ABF7423F0>, async_client=<openai.resources.chat.completions.AsyncCompletions object at 0x0000021ABF745940>, model_name='gpt-3.5-turbo-0125', openai_api_key=SecretStr('**********'), openai_proxy=''))}"
      ]
     },
     "execution_count": 40,
     "metadata": {},
     "output_type": "execute_result"
    }
   ],
   "source": [
    "chains_destino = {}\n",
    "for info in prompt_infos:\n",
    "    chain = LLMChain(llm=chat, prompt=info[\"prompt_template\"], verbose=True)\n",
    "    chains_destino[info[\"name\"]] = chain\n",
    "    \n",
    "chains_destino"
   ]
  },
  {
   "cell_type": "code",
   "execution_count": 42,
   "id": "04434b73",
   "metadata": {},
   "outputs": [
    {
     "name": "stdout",
     "output_type": "stream",
     "text": [
      "Química: Ideal para responder pergunta de química\n",
      "Geografia: Ideal para responder pergunta de geografia\n",
      "Biologia: Ideal para responder pergunta de biologia\n"
     ]
    }
   ],
   "source": [
    "destinos = [f'{p[\"name\"]}: {p[\"description\"]}' for p in prompt_infos]\n",
    "destinos_str = \"\\n\".join(destinos)\n",
    "print(destinos_str)"
   ]
  },
  {
   "cell_type": "code",
   "execution_count": 49,
   "id": "3eba1300",
   "metadata": {},
   "outputs": [
    {
     "name": "stdout",
     "output_type": "stream",
     "text": [
      "Given a raw text input to a language model select the model prompt best suited for the input. You will be given the names of the available prompts and a description of what the prompt is best suited for. You may also revise the original input if you think that revising it will ultimately lead to a better response from the language model.\n",
      "\n",
      "<< FORMATTING >>\n",
      "Return a markdown code snippet with a JSON object formatted to look like:\n",
      "```json\n",
      "{{\n",
      "    \"destination\": string \\ name of the prompt to use or \"DEFAULT\"\n",
      "    \"next_inputs\": string \\ a potentially modified version of the original input\n",
      "}}\n",
      "```\n",
      "\n",
      "REMEMBER: \"destination\" MUST be one of the candidate prompt names specified below OR it can be \"DEFAULT\" if the input is not well suited for any of the candidate prompts.\n",
      "REMEMBER: \"next_inputs\" can just be the original input if you don't think any modifications are needed.\n",
      "\n",
      "<< CANDIDATE PROMPTS >>\n",
      "Química: Ideal para responder pergunta de química\n",
      "Geografia: Ideal para responder pergunta de geografia\n",
      "Biologia: Ideal para responder pergunta de biologia\n",
      "\n",
      "<< INPUT >>\n",
      "{input}\n",
      "\n",
      "<< OUTPUT (must include ```json at the start of the response) >>\n",
      "<< OUTPUT (must end with ```) >>\n",
      "\n"
     ]
    }
   ],
   "source": [
    "router_template = MULTI_PROMPT_ROUTER_TEMPLATE.format(\n",
    "    destinations=destinos_str\n",
    ")\n",
    "\n",
    "print(router_template)"
   ]
  },
  {
   "cell_type": "code",
   "execution_count": 50,
   "id": "68c7e576",
   "metadata": {},
   "outputs": [],
   "source": [
    "router_template = PromptTemplate(\n",
    "    template=router_template,\n",
    "    input_variables=[\"input\"],\n",
    "    output_parser=RouterOutputParser()\n",
    ")\n",
    "\n",
    "router_chain = LLMRouterChain.from_llm(chat, router_template, verbose=True)"
   ]
  },
  {
   "cell_type": "code",
   "execution_count": 51,
   "id": "267085cd",
   "metadata": {},
   "outputs": [],
   "source": [
    "default_prompt = ChatPromptTemplate.from_template(f\"{input}\")\n",
    "default_chain = LLMChain(llm=chat, prompt=default_prompt, verbose=True)\n",
    "chain = MultiPromptChain(\n",
    "    router_chain=router_chain,\n",
    "    destination_chains=chains_destino,\n",
    "    default_chain=default_chain,\n",
    "    verbose=True\n",
    ")"
   ]
  },
  {
   "cell_type": "code",
   "execution_count": 52,
   "id": "48449812",
   "metadata": {},
   "outputs": [
    {
     "name": "stdout",
     "output_type": "stream",
     "text": [
      "\n",
      "\n",
      "\u001b[1m> Entering new MultiPromptChain chain...\u001b[0m\n",
      "\n",
      "\n",
      "\u001b[1m> Entering new LLMRouterChain chain...\u001b[0m\n",
      "\n",
      "\u001b[1m> Finished chain.\u001b[0m\n",
      "Geografia: {'input': 'O que é o El Niño?'}\n",
      "\n",
      "\u001b[1m> Entering new LLMChain chain...\u001b[0m\n",
      "Prompt after formatting:\n",
      "\u001b[32;1m\u001b[1;3mHuman: Você é um geógrafo muito bem informado.\n",
      "Você tem um vasto conhecimento sobre os processos naturais, geografia humana, \n",
      "clima, relevo e interações entre o ambiente e a sociedade.\n",
      "Você é habilidoso em explicar como fatores físicos e humanos afetam\n",
      "o mundo ao nosso redor.\n",
      "\n",
      "Aqui está uma pergunta: O que é o El Niño?\u001b[0m\n",
      "\n",
      "\u001b[1m> Finished chain.\u001b[0m\n",
      "\n",
      "\u001b[1m> Finished chain.\u001b[0m\n"
     ]
    },
    {
     "data": {
      "text/plain": [
       "{'input': 'O que é o El Niño?',\n",
       " 'text': 'O El Niño é um fenômeno climático que ocorre de forma periódica no Oceano Pacífico, caracterizado pelo aquecimento anormal das águas superficiais do oceano na região equatorial. Esse aquecimento altera os padrões de vento e de chuva em diversas regiões do mundo, podendo causar secas, inundações e mudanças drásticas no clima.\\n\\nDurante um evento de El Niño, as águas quentes do oceano deslocam-se em direção à costa oeste da América do Sul, provocando chuvas intensas e enchentes nessa região. Ao mesmo tempo, áreas como Austrália, Indonésia e Índia podem enfrentar secas severas devido à mudança nos padrões de vento e de precipitação.\\n\\nO El Niño também pode afetar a pesca, a agricultura, a biodiversidade e a economia de diversos países, gerando impactos sociais, econômicos e ambientais significativos. É importante monitorar e compreender esse fenômeno para melhorar a previsão de eventos climáticos extremos e mitigar seus impactos.'}"
      ]
     },
     "execution_count": 52,
     "metadata": {},
     "output_type": "execute_result"
    }
   ],
   "source": [
    "chain.invoke({\"input\": \"O que é o El Niño?\"})"
   ]
  },
  {
   "cell_type": "code",
   "execution_count": 53,
   "id": "42151f69",
   "metadata": {},
   "outputs": [
    {
     "name": "stdout",
     "output_type": "stream",
     "text": [
      "\n",
      "\n",
      "\u001b[1m> Entering new MultiPromptChain chain...\u001b[0m\n",
      "\n",
      "\n",
      "\u001b[1m> Entering new LLMRouterChain chain...\u001b[0m\n",
      "\n",
      "\u001b[1m> Finished chain.\u001b[0m\n",
      "Química: {'input': 'Para que serve a tabela periódica?'}\n",
      "\n",
      "\u001b[1m> Entering new LLMChain chain...\u001b[0m\n",
      "Prompt after formatting:\n",
      "\u001b[32;1m\u001b[1;3mHuman: Você é um químico muito experiente.\n",
      "Você é excelente em responder perguntas sobre química de forma clara e objetiva.\n",
      "Você tem um grande entendimento sobre reações químicas, elementos, compostos,\n",
      "e a relação entre a estrutura molecular e as propriedades dos materiais.\n",
      "Quando você não sabe a resposta para uma pergunta, você admite que não sabe.\n",
      "\n",
      "Aqui está uma pergunta: Para que serve a tabela periódica?\u001b[0m\n",
      "\n",
      "\u001b[1m> Finished chain.\u001b[0m\n",
      "\n",
      "\u001b[1m> Finished chain.\u001b[0m\n"
     ]
    },
    {
     "data": {
      "text/plain": [
       "{'input': 'Para que serve a tabela periódica?',\n",
       " 'text': 'A tabela periódica serve para organizar e classificar os elementos químicos de acordo com suas propriedades e características. Ela fornece informações importantes sobre os elementos, como número atômico, massa atômica, configuração eletrônica, propriedades físicas e químicas, entre outras. A tabela periódica é uma ferramenta fundamental para a química, pois permite prever o comportamento dos elementos e facilita a compreensão das relações entre eles.'}"
      ]
     },
     "execution_count": 53,
     "metadata": {},
     "output_type": "execute_result"
    }
   ],
   "source": [
    "chain.invoke({\"input\": \"Para que serve a tabela periódica?\"})"
   ]
  },
  {
   "cell_type": "code",
   "execution_count": 56,
   "id": "34614f74",
   "metadata": {},
   "outputs": [
    {
     "name": "stdout",
     "output_type": "stream",
     "text": [
      "\n",
      "\n",
      "\u001b[1m> Entering new MultiPromptChain chain...\u001b[0m\n",
      "\n",
      "\n",
      "\u001b[1m> Entering new LLMRouterChain chain...\u001b[0m\n",
      "\n",
      "\u001b[1m> Finished chain.\u001b[0m\n",
      "Biologia: {'input': 'Para que serve a fotossíntese?'}\n",
      "\n",
      "\u001b[1m> Entering new LLMChain chain...\u001b[0m\n",
      "Prompt after formatting:\n",
      "\u001b[32;1m\u001b[1;3mHuman: Você é um biólogo muito capacitado.\n",
      "Você tem um grande conhecimento sobre os seres vivos, suas estruturas, funções\n",
      "e a interação entre diferentes organismos e seus ambientes.\n",
      "Você é excelente em explicar conceitos de biologia de maneira clara,\n",
      "tanto para iniciantes quanto para estudantes avançados.\n",
      "\n",
      "Aqui está uma pergunta: Para que serve a fotossíntese?\u001b[0m\n",
      "\n",
      "\u001b[1m> Finished chain.\u001b[0m\n",
      "\n",
      "\u001b[1m> Finished chain.\u001b[0m\n"
     ]
    },
    {
     "data": {
      "text/plain": [
       "{'input': 'Para que serve a fotossíntese?',\n",
       " 'text': 'A fotossíntese é um processo fundamental realizado pelas plantas, algas e algumas bactérias, que convertem a energia solar em energia química, na forma de glicose. Esse processo é essencial para a vida na Terra, pois fornece o oxigênio que respiramos e é a base da cadeia alimentar, já que as plantas são a principal fonte de alimento para a maioria dos seres vivos. Além disso, a fotossíntese ajuda a regular o clima, absorvendo dióxido de carbono da atmosfera e liberando oxigênio. Em resumo, a fotossíntese é responsável por produzir o alimento e o oxigênio que sustentam a vida no planeta.'}"
      ]
     },
     "execution_count": 56,
     "metadata": {},
     "output_type": "execute_result"
    }
   ],
   "source": [
    "chain.invoke({\"input\": \"Para que serve a fotosíntese?\"})"
   ]
  },
  {
   "cell_type": "code",
   "execution_count": null,
   "id": "da182d17",
   "metadata": {},
   "outputs": [],
   "source": []
  }
 ],
 "metadata": {
  "kernelspec": {
   "display_name": ".venv",
   "language": "python",
   "name": "python3"
  },
  "language_info": {
   "codemirror_mode": {
    "name": "ipython",
    "version": 3
   },
   "file_extension": ".py",
   "mimetype": "text/x-python",
   "name": "python",
   "nbconvert_exporter": "python",
   "pygments_lexer": "ipython3",
   "version": "3.13.3"
  }
 },
 "nbformat": 4,
 "nbformat_minor": 5
}
