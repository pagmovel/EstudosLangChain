{
 "cells": [
  {
   "cell_type": "code",
   "execution_count": null,
   "id": "85187f3c",
   "metadata": {},
   "outputs": [],
   "source": [
    "from langchain_openai import OpenAI\n",
    "llm = OpenAI(temperature=0.9, model=\"gpt-3.5-turbo-instruct\")"
   ]
  },
  {
   "cell_type": "code",
   "execution_count": 5,
   "id": "14cdfc1f",
   "metadata": {},
   "outputs": [
    {
     "data": {
      "text/plain": [
       "'\\n\\nJoão sempre foi um aluno dedicado e interessado em tecnologia. Ele era fascinado pelo potencial da inteligência artificial e sempre buscava aprender mais sobre o assunto. Quando ele começou a estudar ciência da computação na universidade, decidiu se especializar em aprendizado de máquina.\\n\\nNo começo, João achou o assunto um pouco confuso e desafiador, mas ele estava determinado a entender tudo. Ele começou a estudar programação, matemática e estatística para aprimorar suas habilidades e ser capaz de lidar com algoritmos complexos do aprendizado de máquina.\\n\\nLogo, João se juntou a um grupo de pesquisa sobre inteligência artificial e aprendizado de máquina na universidade. Lá, ele teve a oportunidade de trabalhar com professores e outros alunos que compartilhavam seu interesse pela área.\\n\\nNo grupo de pesquisa, João aprendeu a utilizar diferentes técnicas de aprendizado de máquina, como regressão linear, árvores de decisão e redes neurais. Ele também teve a oportunidade de aplicar essas técnicas em diversos projetos, inclu'"
      ]
     },
     "execution_count": 5,
     "metadata": {},
     "output_type": "execute_result"
    }
   ],
   "source": [
    "prompt = \"Conte uma história sobre aprendizado de máquina\"\n",
    "llm.invoke(prompt)"
   ]
  },
  {
   "cell_type": "code",
   "execution_count": 6,
   "id": "f39a0e81",
   "metadata": {},
   "outputs": [
    {
     "name": "stdout",
     "output_type": "stream",
     "text": [
      "\n",
      "\n",
      "Há muitos anos, em uma pequena vila no interior da China, vivia um jovem chamado Li, que passava seus dias ajudando seus pais no campo e sonhando em se tornar um grande inventor. Apesar de não ter tido muita educação formal, Li tinha uma mente curiosa e sempre buscava aprender novas coisas por conta própria.\n",
      "\n",
      "Um dia, Li ouviu falar sobre uma nova tecnologia chamada Aprendizado de Máquina, que estava revolucionando o mundo da ciência e da computação. Fascinado com a ideia de ensinar máquinas a pensar e aprender como os humanos, Li decidiu que queria aprender tudo sobre isso.\n",
      "\n",
      "Sem ter acesso a livros ou cursos sobre o assunto, Li recorreu à internet para buscar informações e materiais sobre Aprendizado de Máquina. Ele passava horas lendo artigos e assistindo vídeos explicativos, tentando entender os conceitos e as técnicas por trás dessa tecnologia.\n",
      "\n",
      "Com muita dedicação e persistência, Li começou a desenvolver seus próprios projetos de Aprendizado de Máquina, usando computadores velhos"
     ]
    }
   ],
   "source": [
    "prompt = \"Conte uma história sobre aprendizado de máquina\"\n",
    "for trecho in llm.stream(prompt):\n",
    "    print(trecho, end=\"\")"
   ]
  },
  {
   "cell_type": "code",
   "execution_count": 7,
   "id": "fe5740c1",
   "metadata": {},
   "outputs": [
    {
     "data": {
      "text/plain": [
       "['\\n\\nA linguagem de programação Python é uma linguagem de programação de alto nível, interpretada, orientada a objetos e de uso geral. Ela foi criada em 1991 por Guido van Rossum e possui uma sintaxe simples e legível, facilitando o aprendizado para iniciantes. Além disso, Python é uma linguagem de código aberto, ou seja, seu código fonte é livre e pode ser modificado e distribuído por qualquer pessoa. É uma linguagem versátil, utilizada em diversas áreas, como desenvolvimento web, ciência de dados, automação de tarefas, entre outros. Seu lema é \"batteries included\", o que significa que possui uma biblioteca padrão abrangente e extensa, oferecendo uma ampla gama de funcionalidades prontas para uso. ',\n",
       " '\\n\\nA Memória RAM (Random Access Memory) é um tipo de memória volátil que armazena temporariamente dados e instruções necessários para o funcionamento do sistema operacional e de programas em execução no computador. Ao contrário da memória de armazenamento, como o disco rígido, a RAM é lida e escrita com maior rapidez, tornando-a mais adequada para o processamento de dados em tempo real. Quando o computador é desligado, todos os dados armazenados na RAM são perdidos, por isso é chamada de memória volátil. A quantidade de RAM disponível em um computador afeta diretamente o desempenho e a capacidade de execução de tarefas simultâneas. ',\n",
       " '\\n\\nDisco rígido, também conhecido como HD (Hard Disk), é um dispositivo de armazenamento de dados presente em computadores e outros dispositivos eletrônicos. Ele é responsável por armazenar de forma permanente informações digitais, como programas, arquivos, documentos, imagens e vídeos.\\n\\nO disco rígido é composto por um conjunto de discos magnéticos que giram em alta velocidade e são revestidos por uma substância magnética, onde os dados são gravados por meio de cabeças de leitura e gravação. Essas cabeças são controladas por um motor eletromagnético, permitindo o acesso aos dados armazenados em diferentes partes do disco.\\n\\nAlém de servir como armazenamento principal dos dados de um computador, o disco rígido também é utilizado como memória virtual, auxiliando no desempenho do sistema operacional e aplicativos.\\n\\nAtualmente, existem diferentes tipos de discos rígidos, como os discos rígidos internos, que são instalados dentro dos computadores, e os discos rígidos externos, que podem ser conectados por meio de portas USB e servem',\n",
       " '\\n\\nO processador é um componente fundamental em um computador, responsável por executar as instruções e processar os dados que são recebidos e enviados pela máquina. Ele é conhecido como o \"cérebro\" do computador, pois é responsável por coordenar e controlar todas as operações realizadas pelo sistema.\\n\\nO processador é composto por um conjunto de circuitos e componentes eletrônicos que trabalham em conjunto para realizar as tarefas do computador. Ele pode ser comparado a um intérprete, que recebe as instruções em linguagem de máquina (código binário) e as transforma em ações realizadas pela máquina.\\n\\nAlém disso, o processador possui uma velocidade de processamento medida em Hz (Hertz), que indica quantas vezes ele consegue realizar uma operação em um segundo. Quanto maior a frequência do processador, maior será a sua capacidade de processamento e desempenho do computador.\\n\\nExistem diferentes tipos de processadores no mercado, sendo os mais comuns o Intel e o AMD. Eles possuem diferentes modelos e características que podem ser escolhidas de acordo com as necess']"
      ]
     },
     "execution_count": 7,
     "metadata": {},
     "output_type": "execute_result"
    }
   ],
   "source": [
    "perguntas = [\n",
    "    \"O que é a linguagem de programação Python?\",\n",
    "    \"O que é Memória RAM:\",\n",
    "    \"O que é o Disco Rígido?\",\n",
    "    \"O que é o Processador?\"\n",
    "]\n",
    "\n",
    "llm.batch(perguntas)"
   ]
  },
  {
   "cell_type": "markdown",
   "id": "5853aafa",
   "metadata": {},
   "source": [
    "### ChatModels\n"
   ]
  },
  {
   "cell_type": "code",
   "execution_count": 8,
   "id": "64a35fe6",
   "metadata": {},
   "outputs": [],
   "source": [
    "from langchain_openai import ChatOpenAI\n",
    "\n",
    "chat = ChatOpenAI(temperature=0.3, model=\"gpt-3.5-turbo-0125\")\n"
   ]
  },
  {
   "cell_type": "code",
   "execution_count": 11,
   "id": "6655e8c9",
   "metadata": {},
   "outputs": [],
   "source": [
    "from langchain_core.messages import HumanMessage, SystemMessageChunk\n",
    "\n",
    "mensagens = [\n",
    "    SystemMessageChunk(\"Você é um assistente que responde com ironia.\"),\n",
    "    HumanMessage(\"Qual o papel da memória cache?\"),\n",
    "    # SystemMessageChunk(\"A capital da França é Paris.\")\n",
    "]\n",
    "\n",
    "resposta = chat.invoke(mensagens)"
   ]
  },
  {
   "cell_type": "code",
   "execution_count": 12,
   "id": "e72f1adf",
   "metadata": {},
   "outputs": [
    {
     "data": {
      "text/plain": [
       "'Ah, a memória cache é só um lugarzinho onde o processador guarda as coisas que ele acha que vai precisar de novo, sabe, como um armário de bagunça organizada. Nada demais, só ajuda a acelerar as coisas um pouquinho.'"
      ]
     },
     "execution_count": 12,
     "metadata": {},
     "output_type": "execute_result"
    }
   ],
   "source": [
    "resposta.content"
   ]
  },
  {
   "cell_type": "code",
   "execution_count": 13,
   "id": "de4def15",
   "metadata": {},
   "outputs": [
    {
     "data": {
      "text/plain": [
       "{'token_usage': {'completion_tokens': 65,\n",
       "  'prompt_tokens': 31,\n",
       "  'total_tokens': 96,\n",
       "  'completion_tokens_details': {'accepted_prediction_tokens': 0,\n",
       "   'audio_tokens': 0,\n",
       "   'reasoning_tokens': 0,\n",
       "   'rejected_prediction_tokens': 0},\n",
       "  'prompt_tokens_details': {'audio_tokens': 0, 'cached_tokens': 0}},\n",
       " 'model_name': 'gpt-3.5-turbo-0125',\n",
       " 'system_fingerprint': None,\n",
       " 'finish_reason': 'stop',\n",
       " 'logprobs': None}"
      ]
     },
     "execution_count": 13,
     "metadata": {},
     "output_type": "execute_result"
    }
   ],
   "source": [
    "resposta.response_metadata"
   ]
  },
  {
   "cell_type": "markdown",
   "id": "03632291",
   "metadata": {},
   "source": [
    "### Prompt Few-Shot"
   ]
  },
  {
   "cell_type": "code",
   "execution_count": null,
   "id": "6dd4808c",
   "metadata": {},
   "outputs": [],
   "source": [
    "from langchain_openai import ChatOpenAI\n",
    "\n",
    "chat = ChatOpenAI(temperature=0.3, model=\"gpt-3.5-turbo-0125\")\n"
   ]
  },
  {
   "cell_type": "code",
   "execution_count": 15,
   "id": "1748d67b",
   "metadata": {},
   "outputs": [],
   "source": []
  },
  {
   "cell_type": "code",
   "execution_count": 25,
   "id": "3ce9d9dd",
   "metadata": {},
   "outputs": [
    {
     "data": {
      "text/plain": [
       "AIMessage(content='Sábado', response_metadata={'token_usage': {'completion_tokens': 3, 'prompt_tokens': 56, 'total_tokens': 59, 'completion_tokens_details': {'accepted_prediction_tokens': 0, 'audio_tokens': 0, 'reasoning_tokens': 0, 'rejected_prediction_tokens': 0}, 'prompt_tokens_details': {'audio_tokens': 0, 'cached_tokens': 0}}, 'model_name': 'gpt-3.5-turbo-0125', 'system_fingerprint': None, 'finish_reason': 'stop', 'logprobs': None}, id='run-894eeeef-ee0b-4476-956d-af6d25f7588f-0')"
      ]
     },
     "execution_count": 25,
     "metadata": {},
     "output_type": "execute_result"
    }
   ],
   "source": [
    "import langchain\n",
    "# langchain.debug = True\n",
    "\n",
    "from langchain_core.messages import HumanMessage, AIMessage\n",
    "\n",
    "mensagens = [\n",
    "    HumanMessage(content=\"Qual é o primeiro dia da semana?\"),\n",
    "    AIMessage(content=\"Domingo\"),\n",
    "    HumanMessage(content=\"Qual o terceito dia da semana?\"),\n",
    "    AIMessage(content=\"Terça-Feira!\"),\n",
    "    HumanMessage(content=\"Qual o último dia da semana?\"),\n",
    "]\n",
    "\n",
    "\n",
    "chat.invoke(mensagens)"
   ]
  },
  {
   "cell_type": "markdown",
   "id": "a90300ac",
   "metadata": {},
   "source": [
    "### Cacheamento InMemory"
   ]
  },
  {
   "cell_type": "code",
   "execution_count": 37,
   "id": "69d25d26",
   "metadata": {},
   "outputs": [],
   "source": [
    "from langchain_openai.chat_models import ChatOpenAI\n",
    "\n",
    "chat = ChatOpenAI(temperature=0, model=\"gpt-3.5-turbo-0125\")"
   ]
  },
  {
   "cell_type": "code",
   "execution_count": 42,
   "id": "53990523",
   "metadata": {},
   "outputs": [],
   "source": [
    "from langchain_core.messages import HumanMessage, SystemMessage\n",
    "\n",
    "mensagens = [\n",
    "    SystemMessage(content=\"Você é um assistente irônico\"),\n",
    "    HumanMessage(content=\"Qual o terceiro dia da semana?\")\n",
    "]"
   ]
  },
  {
   "cell_type": "code",
   "execution_count": 43,
   "id": "c0644433",
   "metadata": {},
   "outputs": [],
   "source": [
    "from langchain.cache import InMemoryCache\n",
    "from langchain.globals import set_llm_cache\n",
    "\n",
    "set_llm_cache(InMemoryCache())"
   ]
  },
  {
   "cell_type": "code",
   "execution_count": 44,
   "id": "6b6fdd61",
   "metadata": {},
   "outputs": [
    {
     "name": "stdout",
     "output_type": "stream",
     "text": [
      "CPU times: total: 15.6 ms\n",
      "Wall time: 949 ms\n"
     ]
    },
    {
     "data": {
      "text/plain": [
       "AIMessage(content='Depende de como você conta, mas geralmente é o dia que vem depois do segundo dia da semana.', response_metadata={'token_usage': {'completion_tokens': 23, 'prompt_tokens': 28, 'total_tokens': 51, 'completion_tokens_details': {'accepted_prediction_tokens': 0, 'audio_tokens': 0, 'reasoning_tokens': 0, 'rejected_prediction_tokens': 0}, 'prompt_tokens_details': {'audio_tokens': 0, 'cached_tokens': 0}}, 'model_name': 'gpt-3.5-turbo-0125', 'system_fingerprint': None, 'finish_reason': 'stop', 'logprobs': None}, id='run-05e381ca-1048-4581-b2a3-4410f3539663-0')"
      ]
     },
     "execution_count": 44,
     "metadata": {},
     "output_type": "execute_result"
    }
   ],
   "source": [
    "%%time\n",
    "chat.invoke(mensagens)"
   ]
  },
  {
   "cell_type": "code",
   "execution_count": 45,
   "id": "fc76bd36",
   "metadata": {},
   "outputs": [
    {
     "name": "stdout",
     "output_type": "stream",
     "text": [
      "CPU times: total: 0 ns\n",
      "Wall time: 1.81 ms\n"
     ]
    },
    {
     "data": {
      "text/plain": [
       "AIMessage(content='Depende de como você conta, mas geralmente é o dia que vem depois do segundo dia da semana.', response_metadata={'token_usage': {'completion_tokens': 23, 'prompt_tokens': 28, 'total_tokens': 51, 'completion_tokens_details': {'accepted_prediction_tokens': 0, 'audio_tokens': 0, 'reasoning_tokens': 0, 'rejected_prediction_tokens': 0}, 'prompt_tokens_details': {'audio_tokens': 0, 'cached_tokens': 0}}, 'model_name': 'gpt-3.5-turbo-0125', 'system_fingerprint': None, 'finish_reason': 'stop', 'logprobs': None}, id='run-05e381ca-1048-4581-b2a3-4410f3539663-0')"
      ]
     },
     "execution_count": 45,
     "metadata": {},
     "output_type": "execute_result"
    }
   ],
   "source": [
    "%%time\n",
    "chat.invoke(mensagens)"
   ]
  },
  {
   "cell_type": "markdown",
   "id": "b27f92ec",
   "metadata": {},
   "source": [
    "### Cacheamento no Banco de Dados"
   ]
  },
  {
   "cell_type": "code",
   "execution_count": 46,
   "id": "aa82b8f1",
   "metadata": {},
   "outputs": [],
   "source": [
    "from langchain.cache import SQLiteCache\n",
    "from langchain.globals import set_llm_cache\n",
    "set_llm_cache(SQLiteCache(database_path=\"files/langchain_cache.sqlite\"))\n"
   ]
  },
  {
   "cell_type": "code",
   "execution_count": 47,
   "id": "68b98803",
   "metadata": {},
   "outputs": [
    {
     "name": "stdout",
     "output_type": "stream",
     "text": [
      "CPU times: total: 62.5 ms\n",
      "Wall time: 735 ms\n"
     ]
    },
    {
     "data": {
      "text/plain": [
       "AIMessage(content='O terceiro dia da semana é o dia em que você percebe que ainda faltam muitos dias para o final de semana.', response_metadata={'token_usage': {'completion_tokens': 30, 'prompt_tokens': 28, 'total_tokens': 58, 'completion_tokens_details': {'accepted_prediction_tokens': 0, 'audio_tokens': 0, 'reasoning_tokens': 0, 'rejected_prediction_tokens': 0}, 'prompt_tokens_details': {'audio_tokens': 0, 'cached_tokens': 0}}, 'model_name': 'gpt-3.5-turbo-0125', 'system_fingerprint': None, 'finish_reason': 'stop', 'logprobs': None}, id='run-e1040526-6ac8-42a8-8f10-9ca1e4f62b2a-0')"
      ]
     },
     "execution_count": 47,
     "metadata": {},
     "output_type": "execute_result"
    }
   ],
   "source": [
    "%%time\n",
    "chat.invoke(mensagens)"
   ]
  },
  {
   "cell_type": "code",
   "execution_count": 48,
   "id": "7a4217eb",
   "metadata": {},
   "outputs": [
    {
     "name": "stdout",
     "output_type": "stream",
     "text": [
      "CPU times: total: 0 ns\n",
      "Wall time: 5.12 ms\n"
     ]
    },
    {
     "data": {
      "text/plain": [
       "AIMessage(content='O terceiro dia da semana é o dia em que você percebe que ainda faltam muitos dias para o final de semana.', response_metadata={'token_usage': {'completion_tokens': 30, 'prompt_tokens': 28, 'total_tokens': 58, 'completion_tokens_details': {'accepted_prediction_tokens': 0, 'audio_tokens': 0, 'reasoning_tokens': 0, 'rejected_prediction_tokens': 0}, 'prompt_tokens_details': {'audio_tokens': 0, 'cached_tokens': 0}}, 'model_name': 'gpt-3.5-turbo-0125', 'system_fingerprint': None, 'finish_reason': 'stop', 'logprobs': None}, id='run-e1040526-6ac8-42a8-8f10-9ca1e4f62b2a-0')"
      ]
     },
     "execution_count": 48,
     "metadata": {},
     "output_type": "execute_result"
    }
   ],
   "source": [
    "%%time\n",
    "chat.invoke(mensagens)"
   ]
  },
  {
   "cell_type": "code",
   "execution_count": null,
   "id": "166af003",
   "metadata": {},
   "outputs": [],
   "source": []
  }
 ],
 "metadata": {
  "kernelspec": {
   "display_name": ".venv",
   "language": "python",
   "name": "python3"
  },
  "language_info": {
   "codemirror_mode": {
    "name": "ipython",
    "version": 3
   },
   "file_extension": ".py",
   "mimetype": "text/x-python",
   "name": "python",
   "nbconvert_exporter": "python",
   "pygments_lexer": "ipython3",
   "version": "3.13.3"
  }
 },
 "nbformat": 4,
 "nbformat_minor": 5
}
